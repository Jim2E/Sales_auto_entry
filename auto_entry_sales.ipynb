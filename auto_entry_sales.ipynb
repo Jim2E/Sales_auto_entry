{
 "cells": [
  {
   "cell_type": "markdown",
   "metadata": {},
   "source": [
    "Step 1: Format Excel file into a GOOD file:\n",
    "- Copy/paste values into spreadsheet(make sure columns match(NO POSTMATES) & no extra values ANYWHERE)\n",
    "- The Debit/Credit column highlights in red any imbalances which NEEDS TO BE fixed.\n",
    "- Once all the debit/credits are balanced, SAVE excel file, press anywhere on box below and press ctrl+enter.\n",
    "- Continue to Step 2."
   ]
  },
  {
   "cell_type": "code",
   "execution_count": 6,
   "metadata": {},
   "outputs": [
    {
     "name": "stdout",
     "output_type": "stream",
     "text": [
      "Burger King #24045  \n",
      "All good!\n"
     ]
    }
   ],
   "source": [
    "import pandas as pd\n",
    "#fname is name of excel file\n",
    "fname= \"BK Master TEMPLATE.xlsx\"\n",
    "df= pd.DataFrame(pd.read_excel(fname, header=1))\n",
    "df[\"Date\"] = df[\"Date\"].apply(lambda x: x.strftime(\"%m/%d/%Y\"))\n",
    "\n",
    "def excel_file_checker(dff):\n",
    "    if sum(dff.loc[:,\"Difference\"])==0:\n",
    "        if len(pd.unique(dff.loc[:,\"Store #\"])) == 1:\n",
    "            check = \"All good!\"\n",
    "            return check\n",
    "        else:\n",
    "            check = \"More than 1 store in excel sheet \\n Did you copy&paste correctly?\"\n",
    "            return check\n",
    "    else:\n",
    "        check = \"Excel file needs to be fixed.Check the right-most \\\"Difference\\\" column.\\nDid you SAVE the file?\"\n",
    "        return check\n",
    "\n",
    "print(df.iloc[0,0])\n",
    "print(excel_file_checker(df))"
   ]
  },
  {
   "cell_type": "markdown",
   "metadata": {},
   "source": [
    "Step 2: Run 1st box:\n",
    "- Press anywhere on box below and press ctrl+enter"
   ]
  },
  {
   "cell_type": "code",
   "execution_count": 7,
   "metadata": {},
   "outputs": [],
   "source": [
    "import pyautogui as pag\n",
    "import numpy as np \n",
    "import datetime\n",
    "\n",
    "################################################################################################\n",
    "\n",
    "#single/multiple day entry functions\n",
    "def day_entry(day_n):\n",
    "\n",
    "    #Columns for debit are 3-13 on Excel\n",
    "    dbt_list = np.round(list(df.iloc[day_n-1,2:13]),2)\n",
    "    #Columns for credit are 14-21 on Excel\n",
    "    crd_list = np.round(list(df.iloc[day_n-1,13:21]),2)\n",
    "\n",
    "    dbt_total = np.round(np.sum(np.round(dbt_list,2)),2)\n",
    "    crd_total = np.round(np.sum(np.round(crd_list,2)),2)\n",
    "\n",
    "    dbt_crdt_diff = np.round(dbt_total - crd_total,2)\n",
    "\n",
    "    #1c adjustments are made to SICOM\n",
    "    if dbt_crdt_diff == -0.01: #Dbt is less than crd by 1c\n",
    "        dbt_list[10] += 0.01\n",
    "        dbt_total = np.round(np.sum(np.round(dbt_list,2)),2)\n",
    "    elif dbt_crdt_diff == 0.01: #Dbt is greater than crd by 1c\n",
    "        dbt_list[10] -= 0.01\n",
    "        crd_total = np.round(np.sum(np.round(crd_list,2)),2)\n",
    "\n",
    "    def input_date_to_first_entry(day): \n",
    "        #For date, then we get to first entry\n",
    "        x=70\n",
    "        y=220\n",
    "        pag.moveTo(x, y,duration=0.20)\n",
    "        pag.doubleClick()\n",
    "        #twice bc of bug when clicked on somewhere else on QBs\n",
    "        pag.moveTo(x, y,duration=0.20)\n",
    "        pag.doubleClick()\n",
    "        pag.typewrite(df.loc[day_n-1,\"Date\"])\n",
    "\n",
    "        # to go from date to 1st entry\n",
    "        for i in range(4):\n",
    "            pag.hotkey('tab')\n",
    "\n",
    "    def auto_entry():\n",
    "        #data entry\n",
    "        for d in dbt_list:\n",
    "            pag.typewrite(str(np.round(d,2)))\n",
    "            pag.hotkey('down')\n",
    "            # ex.) df.iloc[0,2] should return 1st day cash deposit\n",
    "        for c in crd_list:\n",
    "            pag.typewrite(str(-1*c))\n",
    "            pag.hotkey('down')\n",
    "\n",
    "    input_date_to_first_entry(day_n)\n",
    "    auto_entry()\n",
    "\n",
    "################################################################################################\n",
    "def dns_entries(begin_day,end_day):\n",
    "\n",
    "    #To go to/click Daily sales-New\n",
    "    x= 70\n",
    "    y= 168\n",
    "    pag.moveTo(x, y,duration=0.1)\n",
    "    pag.doubleClick()\n",
    "\n",
    "    for i in range(begin_day,end_day+1):\n",
    "        \n",
    "        day_entry(i)\n",
    "\n",
    "        #Save & Close\n",
    "        x=670\n",
    "        y=1010\n",
    "        pag.moveTo(x, y,duration=0.15)\n",
    "        pag.click()\n",
    "\n",
    "        #To Daily New Sales\n",
    "        x= 70\n",
    "        y= 160\n",
    "        pag.moveTo(x, y,duration=0.30)\n",
    "        pag.doubleClick()\n",
    "        # pag.moveTo(x, y,duration=0)"
   ]
  },
  {
   "cell_type": "markdown",
   "metadata": {},
   "source": [
    "Step 3: Automate Entries:\n",
    "- Go to Lists-> Memorized Transaction List -> Full screen(on leftside of code)\n",
    "- Make sure the day range in dns_entries(1st day, 2nd day) is correct!!! (otherwise you'll make duplicate entries)\n",
    "    - ex.) For Feb. it would be dns_entries(1,28)\n",
    "- Click anywhere on box below, press ctrl+enter, DO NOT touch mouse or keyboard while it's working.\n",
    "    - MOVE MOUSE TO ANY CORNER TO QUIT PROGRAM WHEN WINDOW APPEARS\n",
    "    - BALANCE, then save & new and then put NEXT DAY to end day:\n",
    "        - dns_entries(NEXT DAY, end day)    ex.) dns_entries(12,31)\n"
   ]
  },
  {
   "cell_type": "code",
   "execution_count": null,
   "metadata": {},
   "outputs": [],
   "source": [
    "dns_entries(11,31)"
   ]
  },
  {
   "cell_type": "markdown",
   "metadata": {},
   "source": [
    "Step 4: When things don't go smoothly.....\n",
    "- If there is an imbalance of more than $0.01(which should've been fixed in step 1. A +/-$0.01 will be subtracted from SICOM), QBs will make a pop-up window show, so you need to STOP CODE by dragging mouse to any corner of screen.\n",
    "- Once you resolve the imbalance for that specific date -> Save & Close\n",
    "- CHANGE dns_entries's 1st day value to have the NEXT DAY.\n",
    "- ex.) dns_entries(1,31) pauses at 5th day, you fix the entry, then change code to dns_entries(6,31), run code."
   ]
  }
 ],
 "metadata": {
  "kernelspec": {
   "display_name": "Python 3.10.7 64-bit",
   "language": "python",
   "name": "python3"
  },
  "language_info": {
   "codemirror_mode": {
    "name": "ipython",
    "version": 3
   },
   "file_extension": ".py",
   "mimetype": "text/x-python",
   "name": "python",
   "nbconvert_exporter": "python",
   "pygments_lexer": "ipython3",
   "version": "3.10.7"
  },
  "orig_nbformat": 4,
  "vscode": {
   "interpreter": {
    "hash": "1eab9e1e91a8404b391f7c1308784ac52d0c72d2ba365693616b67b1f50dbb27"
   }
  }
 },
 "nbformat": 4,
 "nbformat_minor": 2
}
